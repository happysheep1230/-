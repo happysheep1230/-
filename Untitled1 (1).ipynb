{
 "cells": [
  {
   "cell_type": "code",
   "execution_count": 4,
   "metadata": {},
   "outputs": [],
   "source": [
    "my_int = 87\n",
    "my_float = 8.7\n",
    "my_complex = 8 + 7j\n",
    "my_bool = True\n",
    "my_str = \"Introduction to Python Data Science\""
   ]
  },
  {
   "cell_type": "code",
   "execution_count": 5,
   "metadata": {},
   "outputs": [
    {
     "data": {
      "text/plain": [
       "str"
      ]
     },
     "execution_count": 5,
     "metadata": {},
     "output_type": "execute_result"
    }
   ],
   "source": [
    "type(87)\n",
    "type(8.7)\n",
    "type(8 + 7j)\n",
    "type(True)\n",
    "type(False)\n",
    "type(\"Introduction to Python Data Science\")\n"
   ]
  },
  {
   "cell_type": "code",
   "execution_count": 6,
   "metadata": {},
   "outputs": [
    {
     "name": "stdout",
     "output_type": "stream",
     "text": [
      "開始輸出\n",
      "1 2 3\n",
      "1 2 3 4|5|6\n"
     ]
    }
   ],
   "source": [
    "print (\"開始輸出\")\n",
    "print (1, 2, 3)\n",
    "print (1, 2, 3, sep = \" \", end = \" \")\n",
    "print(4, 5, 6, sep=\"|\", end=\"\\n\")\n"
   ]
  },
  {
   "cell_type": "code",
   "execution_count": null,
   "metadata": {},
   "outputs": [
    {
     "name": "stdout",
     "output_type": "stream",
     "text": [
      "⼤明的數學成績：66\n",
      "Jenny的數學成績：95.00\n",
      " Andy的數學成績：80.20\n",
      "王⼩明今年18歲。\n",
      "王⼩明今年18歲。\n"
     ]
    }
   ],
   "source": [
    "score = 66\n",
    "print(\"⼤明的數學成績：%d\" % score)\n",
    "print(\"%5s的數學成績：%5.2f\" %(\"Jenny\", 95))\n",
    "print(\"%5s的數學成績：%5.2f\" %(\"Andy\", 80.2))\n",
    "print(\"{0}今年{1}歲。\" .format(\"王⼩明\" , 18))\n",
    "print(\"{name}今年{age}歲。\" .format(name = \"王⼩明\" , age = 18))\n",
    "name = input(\"請輸入姓名\")\n",
    "chinese_grade = input(\"請輸入國⽂成績\")\n",
    "english_grade = input(\"請輸入英⽂成績\")\n",
    "print(\"{0:8}{1:>5}{2:>5}\" .format(\"姓名\",\"國⽂\",\"英⽂\"))\n",
    "print(\"{0:<10}{1:>6}{2:>6}\" .format(name,chinese_grade,english_grade))"
   ]
  },
  {
   "cell_type": "code",
   "execution_count": null,
   "metadata": {},
   "outputs": [],
   "source": [
    "8 + 7\n",
    "8 - 7\n",
    "8 * 7\n",
    "8 / 7\n",
    "8 ** 2\n",
    "8 % 7\n",
    "8 / 7.0\n",
    "8 + (8 + 7j)\n",
    "\"---\"\n",
    "type(8 / 7.0)\n",
    "type(8 + (8 + 7j))\n",
    "type(\"---\")\n",
    "x = \"5\"\n",
    "num = 5 + int(x)\n",
    "print(num)"
   ]
  },
  {
   "cell_type": "code",
   "execution_count": null,
   "metadata": {},
   "outputs": [],
   "source": [
    "x = \"5.3\"\n",
    "num = 5 + float(x)\n",
    "print(num)\n",
    "x = \"5.3\"\n",
    "num = 5 + float(x)\n",
    "print(\"輸出的數值是\" + str(num))\n",
    "8 == 7\n",
    "8 != 7\n",
    "8 > 7\n",
    "8 < 7\n",
    "8 > 7"
   ]
  },
  {
   "cell_type": "code",
   "execution_count": null,
   "metadata": {},
   "outputs": [],
   "source": [
    "True == 1\n",
    "True == 1.0\n",
    "True == 1 + 0j\n",
    "print(\"---\")\n",
    "False == 0\n",
    "False == 0.0\n",
    "False == 0 + 0j"
   ]
  },
  {
   "cell_type": "code",
   "execution_count": null,
   "metadata": {},
   "outputs": [],
   "source": [
    "'I am loving it!'\n",
    "'I\\'m loving it!'\n",
    "'I don\\'t think you\\'ll ever be just \"anybody\".'\n",
    "\"I don't think you'll ever be just \\\"anybody\\\".\""
   ]
  },
  {
   "cell_type": "code",
   "execution_count": null,
   "metadata": {},
   "outputs": [],
   "source": [
    "str1 = \"Hello!\" + \"How Are You?\"\n",
    "print(str1)\n",
    "str2 = \"Hello!\" * 3\n",
    "print(str2)\n",
    "str3 = \"Hello!\\nHow Are You?\"\n",
    "print(str3)\n",
    "print \"I'm\" + \" loving\" + \" it!\"\n",
    "print \"I'm loving it\" + \"!\" * 3\n",
    "str = \"ABCDEFGHIJK\"\n",
    "print(str[0])\n",
    "print(str[-2])\n",
    "print(str[:7:2])\n",
    "print(str[2::2])\n",
    "print(str[::2])\n",
    "str1 = \"Do \\none \\nthing \\nat a time!\"\n",
    "print(str1.split())\n",
    "print(str1.split( ' ', 2 ))"
   ]
  },
  {
   "cell_type": "code",
   "execution_count": null,
   "metadata": {},
   "outputs": [],
   "source": [
    "str = \"The first wealth is health! Health is important!\"\n",
    "print (\"{},長度是{}\" .format(str, len(str)))\n",
    "print(str.upper())\n",
    "print(str.lower())\n",
    "print(\"health\".capitalize())\n",
    "str.islower()\n",
    "str.count(\"health\")\n",
    "str.strip(\"h!\")\n",
    "str.replace(\"important\", \"重要\")\n"
   ]
  },
  {
   "cell_type": "code",
   "execution_count": null,
   "metadata": {},
   "outputs": [],
   "source": [
    "from datetime import date\n",
    "sys_date = date.today()\n",
    "print sys_date\n",
    "print type(sys_date)\n",
    "from datetime import date\n",
    "start_of_2017 = date(2017, 1, 1)\n",
    "end_of_2017 = date(2017, 12, 31)\n",
    "start_of_2017\n",
    "end_of_2017"
   ]
  },
  {
   "cell_type": "code",
   "execution_count": null,
   "metadata": {},
   "outputs": [],
   "source": [
    "from datetime import date\n",
    "start_of_2017 = date(2017, 1, 1)\n",
    "start_of_2018 = start_of_2017.replace(year = 2018)\n",
    "start_of_2018\n",
    "from datetime import date\n",
    "start_of_2017 = date(2017, 1, 1)\n",
    "end_of_2017 = start_of_2017.replace(month = 12, day = 31)\n",
    "days_dff = end_of_2017 - start_of_2017\n",
    "days_dff.days"
   ]
  },
  {
   "cell_type": "code",
   "execution_count": null,
   "metadata": {},
   "outputs": [],
   "source": [
    "from datetime import time\n",
    "sleep_time = time(23, 0, 0)\n",
    "sleep_time\n",
    "type(sleep_time)\n",
    "from datetime import time\n",
    "sleep_time = time(23, 0, 0)\n",
    "wake_up_time = sleep_time.replace(hour = 7)\n",
    "wake_up_time"
   ]
  },
  {
   "cell_type": "code",
   "execution_count": null,
   "metadata": {},
   "outputs": [],
   "source": [
    "from datetime import datetime\n",
    "sys_datetime = datetime.now()\n",
    "sys_datetime\n",
    "type(sys_datetime)\n",
    "from datetime import datetime\n",
    "start_of_2017 = datetime(2017, 1, 1, 0, 0, 0)\n",
    "start_of_2017\n",
    "from datetime import datetime\n",
    "start_of_2017 = datetime(2017, 1, 1, 0, 0, 1)\n",
    "end_of_2017 = start_of_2017.replace(month = 12, day = 31, hour = 23, minute = 59, second = 59)\n",
    "end_of_2017"
   ]
  },
  {
   "cell_type": "code",
   "execution_count": null,
   "metadata": {},
   "outputs": [],
   "source": [
    "from datetime import datetime\n",
    "start_of_2017 = datetime(2017, 1, 1, 0, 0, 1)\n",
    "end_of_2017 = start_of_2017.replace(month = 12, day = 31, hour = 23, minute = 59, second = 59)\n",
    "date_time_diff = end_of_2017 - start_of_2017\n",
    "date_time_diff.days\n",
    "date_time_diff.seconds"
   ]
  },
  {
   "cell_type": "code",
   "execution_count": null,
   "metadata": {},
   "outputs": [],
   "source": [
    "starring_1 = \"Jennifer Aniston\"\n",
    "starring_2 = \"Courteney Cox\"\n",
    "starring_3 = \"Lisa Kudrow\"\n",
    "starring_4 = \"Matt LeBlanc\"\n",
    "starring_5 = \"Matthew Perry\"\n",
    "starring_6 = \"David Schwimmer\"\n",
    "starrings = [\"Jennifer Aniston\", \"Courteney Cox\", \"Lisa Kudrow\", \"Matt LeBlanc\", \"Matthew Perry\", \"David Schwimmer\"]\n",
    "starrings\n"
   ]
  },
  {
   "cell_type": "code",
   "execution_count": null,
   "metadata": {},
   "outputs": [],
   "source": [
    "＃例⼀\n",
    "genre = \"sitcom\"\n",
    "no_of_episodes = 236\n",
    "still_airing = False\n",
    "friends = [genre, no_of_episodes, still_airing]\n",
    "friends\n",
    "type(friends)\n",
    "#例⼆\n",
    "team_name = \"Chicago Bulls\"\n",
    "wins = 72\n",
    "losses = 10\n",
    "win_percentage = wins / (wins + losses)\n",
    "is_champion = True\n",
    "chicago_bulls = [team_name, wins, losses, win_percentage, is_champion]\n",
    "frunitlist = [\"Apple\", \"Orange\", \"Lemon\"]\n",
    "print(len(fruitlist))\n",
    "fruitlist[1] =\"Kiwi\"\n",
    "fruitlist.append(\"Mongo\")\n",
    "fruiutlist.insert(1, \"banana\")\n",
    "fruitlist.remove(\"Orange\")\n",
    "fruitlist.pop(1)\n",
    "fruitlist.sort()\n",
    "starrings = [\"Jennifer Aniston\", \"Courteney Cox\", \"Lisa Kudrow\", \"Matt LeBlanc\", \"Matthew Perry\", \"David Schwimmer\"]\n",
    "starrings[0]\n",
    "starrings[-1]\n",
    "starrings[:3]\n",
    "starrings[3:]\n",
    "genre = \"sitcom\"\n",
    "no_of_episodes = 236\n",
    "still_airing = False\n",
    "friends = [genre, no_of_episodes, still_airing]\n",
    "type(friends[0])\n",
    "type(friends[1])\n",
    "type(friends[2])"
   ]
  },
  {
   "cell_type": "code",
   "execution_count": null,
   "metadata": {},
   "outputs": [],
   "source": [
    "# 例⼀\n",
    "team_name = \"Chicago Bulls\"\n",
    "wins = 72\n",
    "losses = 10\n",
    "win_percentage = wins / (wins + losses)\n",
    "is_champion = True\n",
    "chicago_bulls_list = [team_name, wins, losses, win_percentage, is_champion]\n",
    "chicago_bulls_tuple = (team_name, wins, losses, win_percentage, is_champion)\n",
    "#或 chicago_bulls_tuple = tuple(chicago_bulls_list)\n",
    "# 例⼆\n",
    "# 使⽤ tuple 函數\n",
    "starrings_list = [\"Jennifer Aniston\", \"Courteney Cox\", \"Lisa Kudrow\", \"Matt LeBlanc\", \"Matthew Perry\", \"David Schwimmer\"]\n",
    "starrings_tuple = tuple(starrings_list)\n",
    "starrings_tuple\n",
    "type(starrings_tuple)\n",
    "# 使⽤⼩括號\n",
    "starrings_tuple = (\"Jennifer Aniston\", \"Courteney Cox\", \"Lisa Kudrow\", \"Matt LeBlanc\", \"Matthew Perry\", \"David Schwimmer\")\n",
    "starrings_tuple\n",
    "type(starrings_tuple)\n",
    "# list 可以新增\n",
    "starrings_list = [\"Jennifer Aniston\", \"Courteney Cox\", \"Lisa Kudrow\", \"Matt LeBlanc\", \"Matthew Perry\"]\n",
    "starrings_list.append(\"David Schwimmer\")\n",
    "starrings_list\n",
    "# tuple 不可以新增\n",
    "starrings_tuple = (\"Jennifer Aniston\", \"Courteney Cox\", \"Lisa Kudrow\", \"Matt LeBlanc\", \"Matthew Perry\")\n",
    "starrings_tuple.append(\"David Schwimmer\")\n"
   ]
  },
  {
   "cell_type": "code",
   "execution_count": null,
   "metadata": {},
   "outputs": [],
   "source": [
    "# 使⽤ set 函數\n",
    "gender_list = [\"female\", \"female\", \"female\", \"male\", \"male\", \"male\"]\n",
    "gender_set = set(gender_list)\n",
    "gender_set\n",
    "type(gender_set)\n",
    "# 使⽤⼤括號建立\n",
    "gender_set = {\"female\", \"female\", \"female\", \"male\", \"male\", \"male\"}\n",
    "gender_set\n",
    "type(gender_set)"
   ]
  },
  {
   "cell_type": "code",
   "execution_count": null,
   "metadata": {},
   "outputs": [],
   "source": [
    "animal = {\"bird\" , \"cat\" , \"dog\" }\n",
    "animal.add(\"fish\")\n",
    "print(animal)\n",
    "animal.remove(\"cat\")\n",
    "print(animal)\n",
    "animal.update({\"bird\", \"monkey\"})\n",
    "print(animal)\n",
    "print(\"fish\" in animal)\n",
    "print(\"monkey\" in anminal)\n",
    "zooA ={\"bird\" , \"cat\" , \"dog\" , \"pig\"}\n",
    "zooB ={\"wolf\" , \"cat\", \"dog\" , \"turtle\"}\n",
    "print(zooA & zooB)\n",
    "print(zooA | zooB)\n",
    "print(zooA - zooB)\n",
    "print(zooA ^ zooB)\n",
    "gender_set = {\"female\", \"female\", \"female\", \"male\", \"male\", \"male\"}\n",
    "gender_set[0]"
   ]
  },
  {
   "cell_type": "code",
   "execution_count": null,
   "metadata": {},
   "outputs": [],
   "source": [
    "#例⼀\n",
    "team_name = \"Chicago Bulls\"\n",
    "wins = 72\n",
    "losses = 10\n",
    "win_percentage = wins / (wins + losses)\n",
    "is_champion = True\n",
    "chicago_bulls = {\n",
    " \"team_name\": team_name,\n",
    " \"wins\": wins,\n",
    " \"losses\": losses,\n",
    " \"win_percentage\": win_percentage,\n",
    " \"is_champion\": is_champion\n",
    "}\n",
    "#例⼆\n",
    "friends_dict = {\n",
    " \"genre\": \"sitcom\",\n",
    " \"seasons\": 10,\n",
    " \"episodes\": 236,\n",
    " \"starrings\": [\"Jennifer Aniston\", \"Courteney Cox\", \"Lisa Kudrow\", \"Matt LeBlanc\", \"Matthew Perry\", \"David Schwimmer\"]\n",
    "}\n",
    "type(friends_dict)"
   ]
  },
  {
   "cell_type": "code",
   "execution_count": null,
   "metadata": {},
   "outputs": [],
   "source": [
    "dic = {\"name\": \"Andy\", \"age\":18, \"city\":\"台北\"}\n",
    "dic.clear()\n",
    "print(dic)\n",
    "dicA = {\"name\": \"Andy\", \"age\":18, \"city\":\"⾼雄\"}\n",
    "dic = dicA.copy()\n",
    "print(dic)\n",
    "dic.get(\"age\")\n",
    "dic.pop(\"city\")\n",
    "dic.update(dicA)\n",
    "print(dic)\n",
    "print(dic.items())\n",
    "print(dic.keys())\n",
    "print(dic.values())"
   ]
  },
  {
   "cell_type": "code",
   "execution_count": null,
   "metadata": {},
   "outputs": [],
   "source": [
    "friends_dict = {\n",
    " \"genre\": \"sitcom\",\n",
    " \"seasons\": 10,\n",
    " \"episodes\": 236,\n",
    " \"starrings\": [\"Jennifer Aniston\", \"Courteney Cox\", \"Lisa Kudrow\", \"Matt LeBlanc\", \"Matthew Perry\", \"David Schwimmer\"]\n",
    "}\n",
    "friends_dict[\"genre\"]\n",
    "friends_dict[\"seasons\"]\n",
    "friends_dict[\"episodes\"]\n",
    "friends_dict[\"starrings\"]\n",
    "genre = \"SitCom\"\n",
    "seasons = 10\n",
    "episodes = 236\n",
    "stars = [\"Jennifer Aniston\", \"Courteney Cox\", \"Lisa Kudrow\",\n",
    "\"Matt LeBlanc\", \"Matthew Perry\", \"David Schwimmer\"]"
   ]
  }
 ],
 "metadata": {
  "kernelspec": {
   "display_name": "Python 3",
   "language": "python",
   "name": "python3"
  },
  "language_info": {
   "codemirror_mode": {
    "name": "ipython",
    "version": 3
   },
   "file_extension": ".py",
   "mimetype": "text/x-python",
   "name": "python",
   "nbconvert_exporter": "python",
   "pygments_lexer": "ipython3",
   "version": "3.7.0"
  }
 },
 "nbformat": 4,
 "nbformat_minor": 2
}
